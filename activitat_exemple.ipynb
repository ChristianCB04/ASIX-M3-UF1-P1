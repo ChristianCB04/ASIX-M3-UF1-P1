{
  "cells": [
    {
      "cell_type": "markdown",
      "metadata": {
        "id": "view-in-github",
        "colab_type": "text"
      },
      "source": [
        "<a href=\"https://colab.research.google.com/github/ChristianCB04/ASIX-M3-UF1-P1/blob/main/activitat_exemple.ipynb\" target=\"_parent\"><img src=\"https://colab.research.google.com/assets/colab-badge.svg\" alt=\"Open In Colab\"/></a>"
      ]
    },
    {
      "cell_type": "markdown",
      "id": "a9f5ad60-07d1-4107-8ab9-7f58a78aae34",
      "metadata": {
        "id": "a9f5ad60-07d1-4107-8ab9-7f58a78aae34"
      },
      "source": [
        "## Exercici 1\n",
        "\n",
        "Completa el codi següent per tal que s'imprimeixi per pantalla la taula de multiplicar del 7."
      ]
    },
    {
      "cell_type": "code",
      "execution_count": 3,
      "id": "de4a6e24-61b4-4781-b870-72b893779b16",
      "metadata": {
        "execution": {
          "iopub.execute_input": "2022-11-21T16:25:39.091259Z",
          "iopub.status.busy": "2022-11-21T16:25:39.090810Z",
          "iopub.status.idle": "2022-11-21T16:25:39.094840Z",
          "shell.execute_reply": "2022-11-21T16:25:39.094272Z",
          "shell.execute_reply.started": "2022-11-21T16:25:39.091240Z"
        },
        "tags": [],
        "colab": {
          "base_uri": "https://localhost:8080/"
        },
        "id": "de4a6e24-61b4-4781-b870-72b893779b16",
        "outputId": "cef853b3-9a72-46c6-f38c-59c545c12467"
      },
      "outputs": [
        {
          "output_type": "stream",
          "name": "stdout",
          "text": [
            "7\n",
            "14\n",
            "21\n",
            "28\n",
            "35\n",
            "42\n",
            "49\n",
            "56\n",
            "63\n",
            "70\n"
          ]
        }
      ],
      "source": [
        "n = 7\n",
        "for i in range(1,11):\n",
        "    print(i*n)\n",
        "    "
      ]
    },
    {
      "cell_type": "code",
      "execution_count": null,
      "id": "18fbb83f-5a2d-4b5d-b795-6c8813e97bae",
      "metadata": {
        "id": "18fbb83f-5a2d-4b5d-b795-6c8813e97bae"
      },
      "outputs": [],
      "source": []
    }
  ],
  "metadata": {
    "kernelspec": {
      "display_name": "Python 3",
      "language": "python",
      "name": "python3"
    },
    "language_info": {
      "codemirror_mode": {
        "name": "ipython",
        "version": 3
      },
      "file_extension": ".py",
      "mimetype": "text/x-python",
      "name": "python",
      "nbconvert_exporter": "python",
      "pygments_lexer": "ipython3",
      "version": "3.10.6"
    },
    "colab": {
      "provenance": [],
      "include_colab_link": true
    }
  },
  "nbformat": 4,
  "nbformat_minor": 5
}